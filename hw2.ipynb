{
 "cells": [
  {
   "cell_type": "code",
   "execution_count": 2,
   "id": "1ade7647",
   "metadata": {},
   "outputs": [],
   "source": [
    "# Dataset\n",
    "# !wget https://raw.githubusercontent.com/alexeygrigorev/datasets/master/car_fuel_efficiency.csv"
   ]
  },
  {
   "cell_type": "code",
   "execution_count": 118,
   "id": "5f798a38",
   "metadata": {},
   "outputs": [],
   "source": [
    "import pandas as pd\n",
    "import numpy as np\n",
    "import seaborn as sns"
   ]
  },
  {
   "cell_type": "code",
   "execution_count": 6,
   "id": "1d24e7f6",
   "metadata": {},
   "outputs": [
    {
     "data": {
      "text/html": [
       "<div>\n",
       "<style scoped>\n",
       "    .dataframe tbody tr th:only-of-type {\n",
       "        vertical-align: middle;\n",
       "    }\n",
       "\n",
       "    .dataframe tbody tr th {\n",
       "        vertical-align: top;\n",
       "    }\n",
       "\n",
       "    .dataframe thead th {\n",
       "        text-align: right;\n",
       "    }\n",
       "</style>\n",
       "<table border=\"1\" class=\"dataframe\">\n",
       "  <thead>\n",
       "    <tr style=\"text-align: right;\">\n",
       "      <th></th>\n",
       "      <th>engine_displacement</th>\n",
       "      <th>horsepower</th>\n",
       "      <th>vehicle_weight</th>\n",
       "      <th>model_year</th>\n",
       "      <th>fuel_efficiency_mpg</th>\n",
       "    </tr>\n",
       "  </thead>\n",
       "  <tbody>\n",
       "    <tr>\n",
       "      <th>0</th>\n",
       "      <td>170</td>\n",
       "      <td>159.0</td>\n",
       "      <td>3413.433759</td>\n",
       "      <td>2003</td>\n",
       "      <td>13.231729</td>\n",
       "    </tr>\n",
       "    <tr>\n",
       "      <th>1</th>\n",
       "      <td>130</td>\n",
       "      <td>97.0</td>\n",
       "      <td>3149.664934</td>\n",
       "      <td>2007</td>\n",
       "      <td>13.688217</td>\n",
       "    </tr>\n",
       "    <tr>\n",
       "      <th>2</th>\n",
       "      <td>170</td>\n",
       "      <td>78.0</td>\n",
       "      <td>3079.038997</td>\n",
       "      <td>2018</td>\n",
       "      <td>14.246341</td>\n",
       "    </tr>\n",
       "    <tr>\n",
       "      <th>3</th>\n",
       "      <td>220</td>\n",
       "      <td>NaN</td>\n",
       "      <td>2542.392402</td>\n",
       "      <td>2009</td>\n",
       "      <td>16.912736</td>\n",
       "    </tr>\n",
       "    <tr>\n",
       "      <th>4</th>\n",
       "      <td>210</td>\n",
       "      <td>140.0</td>\n",
       "      <td>3460.870990</td>\n",
       "      <td>2009</td>\n",
       "      <td>12.488369</td>\n",
       "    </tr>\n",
       "  </tbody>\n",
       "</table>\n",
       "</div>"
      ],
      "text/plain": [
       "   engine_displacement  horsepower  vehicle_weight  model_year  \\\n",
       "0                  170       159.0     3413.433759        2003   \n",
       "1                  130        97.0     3149.664934        2007   \n",
       "2                  170        78.0     3079.038997        2018   \n",
       "3                  220         NaN     2542.392402        2009   \n",
       "4                  210       140.0     3460.870990        2009   \n",
       "\n",
       "   fuel_efficiency_mpg  \n",
       "0            13.231729  \n",
       "1            13.688217  \n",
       "2            14.246341  \n",
       "3            16.912736  \n",
       "4            12.488369  "
      ]
     },
     "execution_count": 6,
     "metadata": {},
     "output_type": "execute_result"
    }
   ],
   "source": [
    "# Prepare the dataset\n",
    "df = pd.read_csv(\"data/car_fuel_efficiency.csv\")\n",
    "df = df[['engine_displacement', 'horsepower', 'vehicle_weight', 'model_year', 'fuel_efficiency_mpg']]\n",
    "df.head()"
   ]
  },
  {
   "cell_type": "code",
   "execution_count": null,
   "id": "43ac5cee",
   "metadata": {},
   "outputs": [
    {
     "data": {
      "text/plain": [
       "array([[<Axes: title={'center': 'fuel_efficiency_mpg'}>]], dtype=object)"
      ]
     },
     "execution_count": 9,
     "metadata": {},
     "output_type": "execute_result"
    },
    {
     "data": {
      "image/png": "[encoded data removed]",
      "text/plain": [
       "<Figure size 640x480 with 1 Axes>"
      ]
     },
     "metadata": {},
     "output_type": "display_data"
    }
   ],
   "source": [
    "# EDA: the target variable is not long-tailed\n",
    "df[['fuel_efficiency_mpg']].hist(bins=50)"
   ]
  },
  {
   "cell_type": "code",
   "execution_count": 10,
   "id": "ced0a38a",
   "metadata": {},
   "outputs": [
    {
     "data": {
      "text/plain": [
       "engine_displacement      0\n",
       "horsepower             708\n",
       "vehicle_weight           0\n",
       "model_year               0\n",
       "fuel_efficiency_mpg      0\n",
       "dtype: int64"
      ]
     },
     "execution_count": 10,
     "metadata": {},
     "output_type": "execute_result"
    }
   ],
   "source": [
    "# Q1\n",
    "df.isnull().sum()"
   ]
  },
  {
   "cell_type": "code",
   "execution_count": 11,
   "id": "99ac8ff8",
   "metadata": {},
   "outputs": [
    {
     "data": {
      "text/html": [
       "<div>\n",
       "<style scoped>\n",
       "    .dataframe tbody tr th:only-of-type {\n",
       "        vertical-align: middle;\n",
       "    }\n",
       "\n",
       "    .dataframe tbody tr th {\n",
       "        vertical-align: top;\n",
       "    }\n",
       "\n",
       "    .dataframe thead th {\n",
       "        text-align: right;\n",
       "    }\n",
       "</style>\n",
       "<table border=\"1\" class=\"dataframe\">\n",
       "  <thead>\n",
       "    <tr style=\"text-align: right;\">\n",
       "      <th></th>\n",
       "      <th>engine_displacement</th>\n",
       "      <th>horsepower</th>\n",
       "      <th>vehicle_weight</th>\n",
       "      <th>model_year</th>\n",
       "      <th>fuel_efficiency_mpg</th>\n",
       "    </tr>\n",
       "  </thead>\n",
       "  <tbody>\n",
       "    <tr>\n",
       "      <th>count</th>\n",
       "      <td>9704.000000</td>\n",
       "      <td>8996.000000</td>\n",
       "      <td>9704.000000</td>\n",
       "      <td>9704.000000</td>\n",
       "      <td>9704.000000</td>\n",
       "    </tr>\n",
       "    <tr>\n",
       "      <th>mean</th>\n",
       "      <td>199.708368</td>\n",
       "      <td>149.657292</td>\n",
       "      <td>3001.280993</td>\n",
       "      <td>2011.484027</td>\n",
       "      <td>14.985243</td>\n",
       "    </tr>\n",
       "    <tr>\n",
       "      <th>std</th>\n",
       "      <td>49.455319</td>\n",
       "      <td>29.879555</td>\n",
       "      <td>497.894860</td>\n",
       "      <td>6.659808</td>\n",
       "      <td>2.556468</td>\n",
       "    </tr>\n",
       "    <tr>\n",
       "      <th>min</th>\n",
       "      <td>10.000000</td>\n",
       "      <td>37.000000</td>\n",
       "      <td>952.681761</td>\n",
       "      <td>2000.000000</td>\n",
       "      <td>6.200971</td>\n",
       "    </tr>\n",
       "    <tr>\n",
       "      <th>25%</th>\n",
       "      <td>170.000000</td>\n",
       "      <td>130.000000</td>\n",
       "      <td>2666.248985</td>\n",
       "      <td>2006.000000</td>\n",
       "      <td>13.267459</td>\n",
       "    </tr>\n",
       "    <tr>\n",
       "      <th>50%</th>\n",
       "      <td>200.000000</td>\n",
       "      <td>149.000000</td>\n",
       "      <td>2993.226296</td>\n",
       "      <td>2012.000000</td>\n",
       "      <td>15.006037</td>\n",
       "    </tr>\n",
       "    <tr>\n",
       "      <th>75%</th>\n",
       "      <td>230.000000</td>\n",
       "      <td>170.000000</td>\n",
       "      <td>3334.957039</td>\n",
       "      <td>2017.000000</td>\n",
       "      <td>16.707965</td>\n",
       "    </tr>\n",
       "    <tr>\n",
       "      <th>max</th>\n",
       "      <td>380.000000</td>\n",
       "      <td>271.000000</td>\n",
       "      <td>4739.077089</td>\n",
       "      <td>2023.000000</td>\n",
       "      <td>25.967222</td>\n",
       "    </tr>\n",
       "  </tbody>\n",
       "</table>\n",
       "</div>"
      ],
      "text/plain": [
       "       engine_displacement   horsepower  vehicle_weight   model_year  \\\n",
       "count          9704.000000  8996.000000     9704.000000  9704.000000   \n",
       "mean            199.708368   149.657292     3001.280993  2011.484027   \n",
       "std              49.455319    29.879555      497.894860     6.659808   \n",
       "min              10.000000    37.000000      952.681761  2000.000000   \n",
       "25%             170.000000   130.000000     2666.248985  2006.000000   \n",
       "50%             200.000000   149.000000     2993.226296  2012.000000   \n",
       "75%             230.000000   170.000000     3334.957039  2017.000000   \n",
       "max             380.000000   271.000000     4739.077089  2023.000000   \n",
       "\n",
       "       fuel_efficiency_mpg  \n",
       "count          9704.000000  \n",
       "mean             14.985243  \n",
       "std               2.556468  \n",
       "min               6.200971  \n",
       "25%              13.267459  \n",
       "50%              15.006037  \n",
       "75%              16.707965  \n",
       "max              25.967222  "
      ]
     },
     "execution_count": 11,
     "metadata": {},
     "output_type": "execute_result"
    }
   ],
   "source": [
    "df.describe()"
   ]
  },
  {
   "cell_type": "code",
   "execution_count": 136,
   "id": "e6e7b54b",
   "metadata": {},
   "outputs": [
    {
     "data": {
      "text/plain": [
       "array([ 483, 7506, 8795, 1688, 6217])"
      ]
     },
     "execution_count": 136,
     "metadata": {},
     "output_type": "execute_result"
    }
   ],
   "source": [
    "# Prepare and split the dataset\n",
    "N = df.shape[0]\n",
    "idx = np.arange(N)\n",
    "np.random.seed(42)\n",
    "np.random.shuffle(idx)\n",
    "idx[:5]"
   ]
  },
  {
   "cell_type": "code",
   "execution_count": 138,
   "id": "802db56b",
   "metadata": {},
   "outputs": [
    {
     "name": "stdout",
     "output_type": "stream",
     "text": [
      "5824 1940 1940\n",
      "9704 9704\n"
     ]
    }
   ],
   "source": [
    "df = df.iloc[idx]\n",
    "size_20 = int(N * 0.2)\n",
    "size_train = N - size_20 * 2\n",
    "df_train = df.iloc[: size_train]\n",
    "df_val = df.iloc[size_train: (size_train + size_20)]\n",
    "df_test = df.iloc[-size_20:]\n",
    "print(len(df_train), len(df_val), len(df_test))\n",
    "print(N, len(df_train) + len(df_val) + len(df_test))"
   ]
  },
  {
   "cell_type": "code",
   "execution_count": 161,
   "id": "e48baf27",
   "metadata": {},
   "outputs": [],
   "source": [
    "# Q3\n",
    "cols = ['engine_displacement', 'horsepower', 'vehicle_weight', 'model_year']\n",
    "def prepare_X(df):\n",
    "    df = df[cols].fillna(0)\n",
    "    X = df.values\n",
    "    return X\n",
    "\n",
    "def train_linear_regression(X, y):\n",
    "    # X, y: np.ndarray\n",
    "    n_rows = len(y)\n",
    "    X = np.column_stack([np.ones(n_rows), X])\n",
    "    XTX_inv = np.linalg.inv(X.T @ X)\n",
    "    W = XTX_inv @ X.T @ y\n",
    "    return W[0], W[1:]\n",
    "\n",
    "def predict(X, w0, w):\n",
    "    return w0 + X.dot(w)\n",
    "\n",
    "def rmse(y_pred, y_true):\n",
    "    mse = np.mean((y_pred - y_true) ** 2)\n",
    "    return np.sqrt(mse).round(3)"
   ]
  },
  {
   "cell_type": "code",
   "execution_count": 140,
   "id": "e79784f1",
   "metadata": {},
   "outputs": [],
   "source": [
    "y = df_train[\"fuel_efficiency_mpg\"].values\n",
    "y_val = df_val[\"fuel_efficiency_mpg\"].values"
   ]
  },
  {
   "cell_type": "code",
   "execution_count": 141,
   "id": "c85c8ba8",
   "metadata": {},
   "outputs": [
    {
     "name": "stdout",
     "output_type": "stream",
     "text": [
      "0.52\n"
     ]
    }
   ],
   "source": [
    "# Fill missing with 0\n",
    "X_fill_zero = prepare_X(df_train)\n",
    "w0, w = train_linear_regression(X_fill_zero, y)\n",
    "\n",
    "X_val_fill_zero = prepare_X(df_val)\n",
    "y_val_pred = predict(X_val_fill_zero, w0, w)\n",
    "print(rmse(y_val_pred, y_val))"
   ]
  },
  {
   "cell_type": "code",
   "execution_count": 142,
   "id": "a202f804",
   "metadata": {},
   "outputs": [
    {
     "name": "stdout",
     "output_type": "stream",
     "text": [
      "0.46\n"
     ]
    }
   ],
   "source": [
    "# Fill missing with mean\n",
    "hp_mean = df_train[\"horsepower\"].mean()\n",
    "\n",
    "X_fill_mean = df_train[cols].copy()\n",
    "X_fill_mean = X_fill_mean.fillna({\"horsepower\": hp_mean})\n",
    "w0, w = train_linear_regression(X_fill_mean, y)\n",
    "\n",
    "X_val_fill_mean = df_val[cols].copy()\n",
    "X_val_fill_mean.fillna({\"horsepower\": hp_mean}, inplace=True)\n",
    "\n",
    "y_val_pred = predict(X_val_fill_mean, w0, w)\n",
    "print(rmse(y_val_pred, y_val))"
   ]
  },
  {
   "cell_type": "code",
   "execution_count": 143,
   "id": "6150bdf9",
   "metadata": {},
   "outputs": [
    {
     "data": {
      "text/plain": [
       "<Axes: ylabel='Count'>"
      ]
     },
     "execution_count": 143,
     "metadata": {},
     "output_type": "execute_result"
    },
    {
     "data": {
      "image/png": "[encoded data removed]",
      "text/plain": [
       "<Figure size 640x480 with 1 Axes>"
      ]
     },
     "metadata": {},
     "output_type": "display_data"
    }
   ],
   "source": [
    "sns.histplot(y_val, color=\"green\", alpha=0.3)\n",
    "sns.histplot(y_val_pred, color=\"red\", alpha=0.1)"
   ]
  },
  {
   "cell_type": "code",
   "execution_count": 144,
   "id": "62a3bc72",
   "metadata": {},
   "outputs": [],
   "source": [
    "# Q4\n",
    "\n",
    "def train_linear_regression_reg(X, y, r):\n",
    "    # X, y: np.ndarray\n",
    "    n_rows = len(y)\n",
    "    X = np.column_stack([np.ones(n_rows), X])\n",
    "    XTX = X.T @ X\n",
    "    XTX = XTX + r * np.eye(XTX.shape[0])\n",
    "    XTX_inv = np.linalg.inv(XTX)\n",
    "    W = XTX_inv @ X.T @ y\n",
    "    return W[0], W[1:]"
   ]
  },
  {
   "cell_type": "code",
   "execution_count": 157,
   "id": "623353b2",
   "metadata": {},
   "outputs": [
    {
     "name": "stdout",
     "output_type": "stream",
     "text": [
      "0 0.53\n",
      "0.01 0.53\n",
      "0.1 0.53\n",
      "1 0.54\n",
      "5 0.54\n",
      "10 0.54\n",
      "100 0.54\n"
     ]
    }
   ],
   "source": [
    "for r in [0, 0.01, 0.1, 1, 5, 10, 100]:\n",
    "    X = prepare_X(df_train)\n",
    "    w0, w = train_linear_regression_reg(X, y, r)\n",
    "\n",
    "    X_val = prepare_X(df_val)\n",
    "    y_val_pred = predict(X_val, w0, w)\n",
    "    \n",
    "    print(r, rmse(y_val_pred, y_val))"
   ]
  },
  {
   "cell_type": "code",
   "execution_count": 158,
   "id": "b93aabf7",
   "metadata": {},
   "outputs": [
    {
     "name": "stdout",
     "output_type": "stream",
     "text": [
      "[6146 3410  272 7044 6730]\n",
      "-- Seed: 0\n",
      "0.53\n",
      "[2754 3802 1432 9088 9280]\n",
      "-- Seed: 1\n",
      "0.53\n",
      "[ 246 8125 1927 8235  424]\n",
      "-- Seed: 2\n",
      "0.52\n",
      "[ 433 3584 5104 2431 1048]\n",
      "-- Seed: 3\n",
      "0.54\n",
      "[2159 8043  603 4028 6785]\n",
      "-- Seed: 4\n",
      "0.52\n",
      "[5607 5858 7722 7623 3596]\n",
      "-- Seed: 5\n",
      "0.51\n",
      "[6898   56 8384 7620 5381]\n",
      "-- Seed: 6\n",
      "0.52\n",
      "[9588 2811 9057 3529 7859]\n",
      "-- Seed: 7\n",
      "0.52\n",
      "[6918 7384 1908 5148  867]\n",
      "-- Seed: 8\n",
      "0.52\n",
      "[9066 3073 2476  658  954]\n",
      "-- Seed: 9\n",
      "0.52\n",
      "0.008\n"
     ]
    }
   ],
   "source": [
    "# Q5\n",
    "stds = []\n",
    "for seed in [0, 1, 2, 3, 4, 5, 6, 7, 8, 9]:\n",
    "    idx = np.arange(N)\n",
    "    np.random.seed(seed)\n",
    "    np.random.shuffle(idx)\n",
    "    print(idx[:5])\n",
    "    df = df.iloc[idx]\n",
    "    size_20 = int(N * 0.2)\n",
    "    size_train = N - size_20 * 2\n",
    "    df_train = df.iloc[: size_train]\n",
    "    # print(df_train.head(1))\n",
    "    df_val = df.iloc[size_train: (size_train + size_20)]\n",
    "    # df_test = df.iloc[-size_20:]\n",
    "    \n",
    "    print(f\"-- Seed: {seed}\")\n",
    "    # print(len(df_train), len(df_val), len(df_test))\n",
    "    # print(N, len(df_train) + len(df_val) + len(df_test))\n",
    "    \n",
    "    X = prepare_X(df_train)\n",
    "    # print(X[:1])\n",
    "    y = df_train[\"fuel_efficiency_mpg\"].values\n",
    "    w0, w = train_linear_regression(X, y)\n",
    "    \n",
    "    y_val = df_val[\"fuel_efficiency_mpg\"].values\n",
    "    X_val = prepare_X(df_val)\n",
    "    y_val_pred = predict(X_val, w0, w)\n",
    "    score = rmse(y_val_pred, y_val)\n",
    "    print(score)\n",
    "    \n",
    "    stds.append(score)\n",
    "    \n",
    "print(np.std(stds).round(3))\n"
   ]
  },
  {
   "cell_type": "code",
   "execution_count": 164,
   "id": "a7b09ecc",
   "metadata": {},
   "outputs": [
    {
     "name": "stdout",
     "output_type": "stream",
     "text": [
      "[9066 3073 2476  658  954]\n",
      "0.516\n"
     ]
    }
   ],
   "source": [
    "# Q6\n",
    "\n",
    "idx = np.arange(N)\n",
    "np.random.seed(9)\n",
    "np.random.shuffle(idx)\n",
    "print(idx[:5])\n",
    "\n",
    "df = df.iloc[idx]\n",
    "size_20 = int(N * 0.2)\n",
    "size_train = N - size_20 * 2\n",
    "df_train = df.iloc[: size_train]\n",
    "# print(df_train.head(1))\n",
    "df_val = df.iloc[size_train: (size_train + size_20)]\n",
    "df_test = df.iloc[-size_20:]\n",
    "\n",
    "# Merge val into train\n",
    "df_train = pd.concat([df_train, df_val], axis = 0)\n",
    "\n",
    "X = prepare_X(df_train)\n",
    "# print(X[:1])\n",
    "y = df_train[\"fuel_efficiency_mpg\"].values\n",
    "w0, w = train_linear_regression_reg(X, y, r=0.01)\n",
    "\n",
    "y_test = df_test[\"fuel_efficiency_mpg\"].values\n",
    "X_test = prepare_X(df_test)\n",
    "y_test_pred = predict(X_test, w0, w)\n",
    "score = rmse(y_test_pred, y_test)\n",
    "print(score)"
   ]
  },
  {
   "cell_type": "code",
   "execution_count": null,
   "id": "827f9377",
   "metadata": {},
   "outputs": [],
   "source": []
  }
 ],
 "metadata": {
  "kernelspec": {
   "display_name": "ml-zoomcamp",
   "language": "python",
   "name": "python3"
  },
  "language_info": {
   "codemirror_mode": {
    "name": "ipython",
    "version": 3
   },
   "file_extension": ".py",
   "mimetype": "text/x-python",
   "name": "python",
   "nbconvert_exporter": "python",
   "pygments_lexer": "ipython3",
   "version": "3.9.6"
  }
 },
 "nbformat": 4,
 "nbformat_minor": 5
}
