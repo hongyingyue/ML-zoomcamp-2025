{
 "cells": [
  {
   "cell_type": "code",
   "execution_count": 54,
   "metadata": {},
   "outputs": [],
   "source": [
    "import pandas as pd\n",
    "import numpy as np"
   ]
  },
  {
   "cell_type": "code",
   "execution_count": 55,
   "metadata": {},
   "outputs": [
    {
     "data": {
      "text/html": [
       "<div>\n",
       "<style scoped>\n",
       "    .dataframe tbody tr th:only-of-type {\n",
       "        vertical-align: middle;\n",
       "    }\n",
       "\n",
       "    .dataframe tbody tr th {\n",
       "        vertical-align: top;\n",
       "    }\n",
       "\n",
       "    .dataframe thead th {\n",
       "        text-align: right;\n",
       "    }\n",
       "</style>\n",
       "<table border=\"1\" class=\"dataframe\">\n",
       "  <thead>\n",
       "    <tr style=\"text-align: right;\">\n",
       "      <th></th>\n",
       "      <th>lead_source</th>\n",
       "      <th>industry</th>\n",
       "      <th>number_of_courses_viewed</th>\n",
       "      <th>annual_income</th>\n",
       "      <th>employment_status</th>\n",
       "      <th>location</th>\n",
       "      <th>interaction_count</th>\n",
       "      <th>lead_score</th>\n",
       "      <th>converted</th>\n",
       "    </tr>\n",
       "  </thead>\n",
       "  <tbody>\n",
       "    <tr>\n",
       "      <th>0</th>\n",
       "      <td>paid_ads</td>\n",
       "      <td>NaN</td>\n",
       "      <td>1</td>\n",
       "      <td>79450.0</td>\n",
       "      <td>unemployed</td>\n",
       "      <td>south_america</td>\n",
       "      <td>4</td>\n",
       "      <td>0.94</td>\n",
       "      <td>1</td>\n",
       "    </tr>\n",
       "    <tr>\n",
       "      <th>1</th>\n",
       "      <td>social_media</td>\n",
       "      <td>retail</td>\n",
       "      <td>1</td>\n",
       "      <td>46992.0</td>\n",
       "      <td>employed</td>\n",
       "      <td>south_america</td>\n",
       "      <td>1</td>\n",
       "      <td>0.80</td>\n",
       "      <td>0</td>\n",
       "    </tr>\n",
       "    <tr>\n",
       "      <th>2</th>\n",
       "      <td>events</td>\n",
       "      <td>healthcare</td>\n",
       "      <td>5</td>\n",
       "      <td>78796.0</td>\n",
       "      <td>unemployed</td>\n",
       "      <td>australia</td>\n",
       "      <td>3</td>\n",
       "      <td>0.69</td>\n",
       "      <td>1</td>\n",
       "    </tr>\n",
       "    <tr>\n",
       "      <th>3</th>\n",
       "      <td>paid_ads</td>\n",
       "      <td>retail</td>\n",
       "      <td>2</td>\n",
       "      <td>83843.0</td>\n",
       "      <td>NaN</td>\n",
       "      <td>australia</td>\n",
       "      <td>1</td>\n",
       "      <td>0.87</td>\n",
       "      <td>0</td>\n",
       "    </tr>\n",
       "    <tr>\n",
       "      <th>4</th>\n",
       "      <td>referral</td>\n",
       "      <td>education</td>\n",
       "      <td>3</td>\n",
       "      <td>85012.0</td>\n",
       "      <td>self_employed</td>\n",
       "      <td>europe</td>\n",
       "      <td>3</td>\n",
       "      <td>0.62</td>\n",
       "      <td>1</td>\n",
       "    </tr>\n",
       "  </tbody>\n",
       "</table>\n",
       "</div>"
      ],
      "text/plain": [
       "    lead_source    industry  number_of_courses_viewed  annual_income  \\\n",
       "0      paid_ads         NaN                         1        79450.0   \n",
       "1  social_media      retail                         1        46992.0   \n",
       "2        events  healthcare                         5        78796.0   \n",
       "3      paid_ads      retail                         2        83843.0   \n",
       "4      referral   education                         3        85012.0   \n",
       "\n",
       "  employment_status       location  interaction_count  lead_score  converted  \n",
       "0        unemployed  south_america                  4        0.94          1  \n",
       "1          employed  south_america                  1        0.80          0  \n",
       "2        unemployed      australia                  3        0.69          1  \n",
       "3               NaN      australia                  1        0.87          0  \n",
       "4     self_employed         europe                  3        0.62          1  "
      ]
     },
     "execution_count": 55,
     "metadata": {},
     "output_type": "execute_result"
    }
   ],
   "source": [
    "df = pd.read_csv(\"data/course_lead_scoring.csv\")\n",
    "df.head()"
   ]
  },
  {
   "cell_type": "code",
   "execution_count": 56,
   "metadata": {},
   "outputs": [
    {
     "data": {
      "text/plain": [
       "lead_source                 128\n",
       "industry                    134\n",
       "number_of_courses_viewed      0\n",
       "annual_income               181\n",
       "employment_status           100\n",
       "location                     63\n",
       "interaction_count             0\n",
       "lead_score                    0\n",
       "converted                     0\n",
       "dtype: int64"
      ]
     },
     "execution_count": 56,
     "metadata": {},
     "output_type": "execute_result"
    }
   ],
   "source": [
    "df.isnull().sum()"
   ]
  },
  {
   "cell_type": "code",
   "execution_count": 57,
   "metadata": {},
   "outputs": [
    {
     "data": {
      "text/plain": [
       "lead_source                  object\n",
       "industry                     object\n",
       "number_of_courses_viewed      int64\n",
       "annual_income               float64\n",
       "employment_status            object\n",
       "location                     object\n",
       "interaction_count             int64\n",
       "lead_score                  float64\n",
       "converted                     int64\n",
       "dtype: object"
      ]
     },
     "execution_count": 57,
     "metadata": {},
     "output_type": "execute_result"
    }
   ],
   "source": [
    "df.dtypes"
   ]
  },
  {
   "cell_type": "code",
   "execution_count": 58,
   "metadata": {},
   "outputs": [
    {
     "data": {
      "text/plain": [
       "['lead_source', 'industry', 'employment_status', 'location']"
      ]
     },
     "execution_count": 58,
     "metadata": {},
     "output_type": "execute_result"
    }
   ],
   "source": [
    "# data preparation\n",
    "categorical = list(df.columns[df.dtypes == 'object'])\n",
    "categorical"
   ]
  },
  {
   "cell_type": "code",
   "execution_count": 59,
   "metadata": {},
   "outputs": [
    {
     "data": {
      "text/plain": [
       "['number_of_courses_viewed',\n",
       " 'annual_income',\n",
       " 'interaction_count',\n",
       " 'lead_score']"
      ]
     },
     "execution_count": 59,
     "metadata": {},
     "output_type": "execute_result"
    }
   ],
   "source": [
    "numerical = ['number_of_courses_viewed',\n",
    "    'annual_income',\n",
    "    'interaction_count',\n",
    "    'lead_score']\n",
    "numerical"
   ]
  },
  {
   "cell_type": "code",
   "execution_count": 60,
   "metadata": {},
   "outputs": [
    {
     "data": {
      "text/plain": [
       "lead_source                 0\n",
       "industry                    0\n",
       "number_of_courses_viewed    0\n",
       "annual_income               0\n",
       "employment_status           0\n",
       "location                    0\n",
       "interaction_count           0\n",
       "lead_score                  0\n",
       "converted                   0\n",
       "dtype: int64"
      ]
     },
     "execution_count": 60,
     "metadata": {},
     "output_type": "execute_result"
    }
   ],
   "source": [
    "for col in categorical:\n",
    "    df[col] = df[col].fillna(\"NA\")\n",
    "    \n",
    "for col in numerical:\n",
    "    df[col] = df[col].fillna(0)\n",
    "    \n",
    "df.isnull().sum()"
   ]
  },
  {
   "cell_type": "code",
   "execution_count": 61,
   "metadata": {},
   "outputs": [
    {
     "name": "stdout",
     "output_type": "stream",
     "text": [
      "876 293 293\n"
     ]
    }
   ],
   "source": [
    "# data splition\n",
    "from sklearn.model_selection import train_test_split\n",
    "\n",
    "train_validation, test = train_test_split(df, test_size=0.2, random_state=1)\n",
    "train, validation = train_test_split(train_validation, test_size=0.25, random_state=1)\n",
    "print(len(train), len(validation), len(test))"
   ]
  },
  {
   "cell_type": "code",
   "execution_count": 62,
   "metadata": {},
   "outputs": [
    {
     "name": "stdout",
     "output_type": "stream",
     "text": [
      "number_of_courses_viewed 0.764\n",
      "annual_income 0.552\n",
      "interaction_count 0.738\n",
      "lead_score 0.614\n"
     ]
    }
   ],
   "source": [
    "# Q1: ROC feature importance\n",
    "from sklearn.metrics import roc_auc_score\n",
    "\n",
    "y = train.converted.values\n",
    "\n",
    "for col in numerical:\n",
    "    fi = roc_auc_score(y, train[col])\n",
    "    print(col, fi.round(3))"
   ]
  },
  {
   "cell_type": "code",
   "execution_count": 63,
   "id": "33120c49",
   "metadata": {},
   "outputs": [],
   "source": [
    "# Q2: Training the model\n",
    "from sklearn.feature_extraction import DictVectorizer\n",
    "from sklearn.preprocessing import StandardScaler\n",
    "\n",
    "# scale numberical features\n",
    "scaler = StandardScaler()\n",
    "X_train_num = train[numerical]\n",
    "X_train_num = scaler.fit_transform(X_train_num)\n",
    "\n",
    "# one-hot-encoding using DictVectorizer\n",
    "dv = DictVectorizer(sparse=False)\n",
    "train_dict = train[categorical].to_dict(orient='records')\n",
    "X_train_cat = dv.fit_transform(train_dict)\n",
    "\n",
    "X_train = np.column_stack([X_train_num, X_train_cat])\n",
    "y_train = train.converted.values\n",
    "\n",
    "X_validation_num = validation[numerical]\n",
    "X_validation_num = scaler.transform(X_validation_num)\n",
    "validation_dict = validation[categorical].to_dict(orient='records')\n",
    "X_validation_cat = dv.transform(validation_dict)\n",
    "X_validation = np.column_stack([X_validation_num, X_validation_cat])\n",
    "y_validation = validation.converted.values"
   ]
  },
  {
   "cell_type": "code",
   "execution_count": 64,
   "metadata": {},
   "outputs": [
    {
     "data": {
      "text/plain": [
       "np.float64(0.921)"
      ]
     },
     "execution_count": 64,
     "metadata": {},
     "output_type": "execute_result"
    }
   ],
   "source": [
    "from sklearn.linear_model import LogisticRegression\n",
    "\n",
    "# model = LogisticRegression(solver='lbfgs', C=1.0, max_iter=2000)\n",
    "model = LogisticRegression(solver='liblinear', C=1.0, max_iter=1000)\n",
    "\n",
    "model.fit(X_train, y_train)\n",
    "\n",
    "y_pred = model.predict_proba(X_validation)[:, 1]\n",
    "auc = roc_auc_score(y_validation, y_pred)\n",
    "auc.round(3)"
   ]
  },
  {
   "cell_type": "code",
   "execution_count": 65,
   "metadata": {},
   "outputs": [
    {
     "name": "stderr",
     "output_type": "stream",
     "text": [
      "/var/folders/cl/j9k2b3n537bg1fr81hb9b5jh0000gn/T/ipykernel_49933/3432444255.py:12: RuntimeWarning: invalid value encountered in scalar divide\n",
      "  precision = tp / (tp + fp)\n"
     ]
    },
    {
     "data": {
      "text/html": [
       "<div>\n",
       "<style scoped>\n",
       "    .dataframe tbody tr th:only-of-type {\n",
       "        vertical-align: middle;\n",
       "    }\n",
       "\n",
       "    .dataframe tbody tr th {\n",
       "        vertical-align: top;\n",
       "    }\n",
       "\n",
       "    .dataframe thead th {\n",
       "        text-align: right;\n",
       "    }\n",
       "</style>\n",
       "<table border=\"1\" class=\"dataframe\">\n",
       "  <thead>\n",
       "    <tr style=\"text-align: right;\">\n",
       "      <th></th>\n",
       "      <th>Threshold</th>\n",
       "      <th>Precision</th>\n",
       "      <th>Recall</th>\n",
       "      <th>F1</th>\n",
       "    </tr>\n",
       "  </thead>\n",
       "  <tbody>\n",
       "    <tr>\n",
       "      <th>0</th>\n",
       "      <td>0.00</td>\n",
       "      <td>0.583618</td>\n",
       "      <td>1.000000</td>\n",
       "      <td>0.737069</td>\n",
       "    </tr>\n",
       "    <tr>\n",
       "      <th>1</th>\n",
       "      <td>0.01</td>\n",
       "      <td>0.595819</td>\n",
       "      <td>1.000000</td>\n",
       "      <td>0.746725</td>\n",
       "    </tr>\n",
       "    <tr>\n",
       "      <th>2</th>\n",
       "      <td>0.02</td>\n",
       "      <td>0.608541</td>\n",
       "      <td>1.000000</td>\n",
       "      <td>0.756637</td>\n",
       "    </tr>\n",
       "    <tr>\n",
       "      <th>3</th>\n",
       "      <td>0.03</td>\n",
       "      <td>0.611511</td>\n",
       "      <td>0.994152</td>\n",
       "      <td>0.757238</td>\n",
       "    </tr>\n",
       "    <tr>\n",
       "      <th>4</th>\n",
       "      <td>0.04</td>\n",
       "      <td>0.622711</td>\n",
       "      <td>0.994152</td>\n",
       "      <td>0.765766</td>\n",
       "    </tr>\n",
       "    <tr>\n",
       "      <th>5</th>\n",
       "      <td>0.05</td>\n",
       "      <td>0.630597</td>\n",
       "      <td>0.988304</td>\n",
       "      <td>0.769932</td>\n",
       "    </tr>\n",
       "    <tr>\n",
       "      <th>6</th>\n",
       "      <td>0.06</td>\n",
       "      <td>0.630597</td>\n",
       "      <td>0.988304</td>\n",
       "      <td>0.769932</td>\n",
       "    </tr>\n",
       "    <tr>\n",
       "      <th>7</th>\n",
       "      <td>0.07</td>\n",
       "      <td>0.637736</td>\n",
       "      <td>0.988304</td>\n",
       "      <td>0.775229</td>\n",
       "    </tr>\n",
       "    <tr>\n",
       "      <th>8</th>\n",
       "      <td>0.08</td>\n",
       "      <td>0.638783</td>\n",
       "      <td>0.982456</td>\n",
       "      <td>0.774194</td>\n",
       "    </tr>\n",
       "    <tr>\n",
       "      <th>9</th>\n",
       "      <td>0.09</td>\n",
       "      <td>0.641221</td>\n",
       "      <td>0.982456</td>\n",
       "      <td>0.775982</td>\n",
       "    </tr>\n",
       "  </tbody>\n",
       "</table>\n",
       "</div>"
      ],
      "text/plain": [
       "   Threshold  Precision    Recall        F1\n",
       "0       0.00   0.583618  1.000000  0.737069\n",
       "1       0.01   0.595819  1.000000  0.746725\n",
       "2       0.02   0.608541  1.000000  0.756637\n",
       "3       0.03   0.611511  0.994152  0.757238\n",
       "4       0.04   0.622711  0.994152  0.765766\n",
       "5       0.05   0.630597  0.988304  0.769932\n",
       "6       0.06   0.630597  0.988304  0.769932\n",
       "7       0.07   0.637736  0.988304  0.775229\n",
       "8       0.08   0.638783  0.982456  0.774194\n",
       "9       0.09   0.641221  0.982456  0.775982"
      ]
     },
     "execution_count": 65,
     "metadata": {},
     "output_type": "execute_result"
    }
   ],
   "source": [
    "# Q3: precision and recall\n",
    "# Q4: F1 score\n",
    "\n",
    "thresholds = np.linspace(0, 1, 101)\n",
    "\n",
    "scores = []\n",
    "for t in thresholds:\n",
    "    y_pred_label = (y_pred >= t).astype(int)\n",
    "    tp = ((y_pred_label == 1) & (y_validation == 1)).sum()\n",
    "    fp = ((y_pred_label == 1) & (y_validation == 0)).sum()\n",
    "    fn = ((y_pred_label == 0) & (y_validation == 1)).sum()\n",
    "    precision = tp / (tp + fp)\n",
    "    recall = tp / (tp + fn)\n",
    "    f1 = 2 * precision * recall / (precision + recall)\n",
    "    scores.append((t, precision, recall, f1))\n",
    "    \n",
    "df_scores = pd.DataFrame(scores, columns=[\"Threshold\", \"Precision\", \"Recall\", \"F1\"])\n",
    "df_scores.head(10)"
   ]
  },
  {
   "cell_type": "code",
   "execution_count": 66,
   "metadata": {},
   "outputs": [
    {
     "data": {
      "text/plain": [
       "<matplotlib.legend.Legend at 0x12bd6b8e0>"
      ]
     },
     "execution_count": 66,
     "metadata": {},
     "output_type": "execute_result"
    },
    {
     "data": {
      "image/png": "[encoded data removed]",
      "text/plain": [
       "<Figure size 640x480 with 1 Axes>"
      ]
     },
     "metadata": {},
     "output_type": "display_data"
    }
   ],
   "source": [
    "import matplotlib.pyplot as plt\n",
    "\n",
    "plt.plot(df_scores.Threshold, df_scores.Precision, label=\"Precision\")\n",
    "plt.plot(df_scores.Threshold, df_scores.Recall, label=\"Recall\")\n",
    "plt.plot(df_scores.Threshold, df_scores.F1, label=\"F1\")\n",
    "plt.legend()"
   ]
  },
  {
   "cell_type": "code",
   "execution_count": 67,
   "metadata": {},
   "outputs": [
    {
     "data": {
      "text/plain": [
       "Threshold    0.530000\n",
       "Precision    0.877907\n",
       "Recall       0.883041\n",
       "F1           0.880466\n",
       "Name: 53, dtype: float64"
      ]
     },
     "execution_count": 67,
     "metadata": {},
     "output_type": "execute_result"
    }
   ],
   "source": [
    "df_scores.iloc[df_scores[\"F1\"].argmax()]"
   ]
  },
  {
   "cell_type": "code",
   "execution_count": 77,
   "metadata": {},
   "outputs": [
    {
     "data": {
      "text/plain": [
       "np.float64(0.921)"
      ]
     },
     "execution_count": 77,
     "metadata": {},
     "output_type": "execute_result"
    }
   ],
   "source": [
    "# Q5: 5-fold CV\n",
    "def train_model(df_train, C=1.0):\n",
    "    \n",
    "    # scale numberical features\n",
    "    sc = StandardScaler()\n",
    "    X_train_num = df_train[numerical]\n",
    "    X_train_num = sc.fit_transform(X_train_num)\n",
    "\n",
    "    # one-hot-encoding using DictVectorizer\n",
    "    dv = DictVectorizer(sparse=False)\n",
    "    train_dict = df_train[categorical].to_dict(orient='records')\n",
    "    X_train_cat = dv.fit_transform(train_dict)\n",
    "\n",
    "    X_train = np.column_stack([X_train_num, X_train_cat])\n",
    "    y_train = df_train.converted.values\n",
    "\n",
    "    model = LogisticRegression(solver='liblinear', C=C, max_iter=1000)\n",
    "    model.fit(X_train, y_train)\n",
    "    \n",
    "    return sc, dv, model\n",
    "\n",
    "sc, dv, model = train_model(train)\n",
    "\n",
    "def predict(df, sc, dv, model):\n",
    "    X_num = df[numerical]\n",
    "    X_num = sc.transform(X_num)\n",
    "    df_dict = df[categorical].to_dict(orient='records')\n",
    "    X_cat = dv.transform(df_dict)\n",
    "    X = np.column_stack([X_num, X_cat])\n",
    "    y_pred = model.predict_proba(X)[:, 1]\n",
    "    return y_pred\n",
    "\n",
    "y_pred = predict(validation, sc, dv, model)\n",
    "auc = roc_auc_score(y_validation, y_pred)\n",
    "auc.round(3)"
   ]
  },
  {
   "cell_type": "code",
   "execution_count": 84,
   "metadata": {},
   "outputs": [
    {
     "data": {
      "application/vnd.jupyter.widget-view+json": {
       "model_id": "798cadaa466a4e35bc05cd5ec6b0dd62",
       "version_major": 2,
       "version_minor": 0
      },
      "text/plain": [
       "Cross-validation:   0%|          | 0/5 [00:00<?, ?it/s]"
      ]
     },
     "metadata": {},
     "output_type": "display_data"
    },
    {
     "name": "stdout",
     "output_type": "stream",
     "text": [
      "Fold 2: 0.921\n",
      "Fold 3: 0.932\n",
      "Fold 4: 0.907\n",
      "Fold 5: 0.911\n",
      "Fold 6: 0.932\n",
      "0.921 +- 0.010\n"
     ]
    }
   ],
   "source": [
    "from tqdm.auto import tqdm\n",
    "from sklearn.model_selection import KFold\n",
    "\n",
    "n_splits = 5\n",
    "kfold = KFold(n_splits=n_splits, shuffle=True, random_state=1)\n",
    "scores = []\n",
    "\n",
    "for i, (train_idx, val_idx) in enumerate(tqdm(kfold.split(train_validation), total=n_splits, desc=\"Cross-validation\"), 1):\n",
    "    df_train = train_validation.iloc[train_idx]\n",
    "    df_val = train_validation.iloc[val_idx]\n",
    "\n",
    "    y_train = df_train.converted.values\n",
    "    y_val = df_val.converted.values\n",
    "\n",
    "    sc, dv, model = train_model(df_train)\n",
    "    y_pred = predict(df_val, sc, dv, model)\n",
    "    # print(y_val.shape, y_pred.shape)\n",
    "    auc = roc_auc_score(y_val, y_pred)\n",
    "    print(f\"Fold {i + 1}: {auc:.3f}\")\n",
    "    scores.append(auc)\n",
    "\n",
    "print('%.3f +- %.3f' % (np.mean(scores), np.std(scores)))"
   ]
  },
  {
   "cell_type": "code",
   "execution_count": 85,
   "metadata": {},
   "outputs": [
    {
     "data": {
      "application/vnd.jupyter.widget-view+json": {
       "model_id": "3578eb5d311d4707849504ee836bb36c",
       "version_major": 2,
       "version_minor": 0
      },
      "text/plain": [
       "Hyper Tuning:   0%|          | 0/3 [00:00<?, ?it/s]"
      ]
     },
     "metadata": {},
     "output_type": "display_data"
    },
    {
     "name": "stdout",
     "output_type": "stream",
     "text": [
      "Fold 1: 0.899\n",
      "Fold 2: 0.905\n",
      "Fold 3: 0.896\n",
      "Fold 4: 0.889\n",
      "Fold 5: 0.927\n",
      "C=1e-06 0.903 +- 0.013\n",
      "Fold 1: 0.901\n",
      "Fold 2: 0.909\n",
      "Fold 3: 0.896\n",
      "Fold 4: 0.891\n",
      "Fold 5: 0.929\n",
      "C=0.001 0.905 +- 0.013\n",
      "Fold 1: 0.921\n",
      "Fold 2: 0.932\n",
      "Fold 3: 0.907\n",
      "Fold 4: 0.911\n",
      "Fold 5: 0.932\n",
      "C=1 0.921 +- 0.010\n"
     ]
    }
   ],
   "source": [
    "# Q6: hyperparameter tuning\n",
    "\n",
    "for C in tqdm([0.000001, 0.001, 1], desc=\"Hyper Tuning\"):\n",
    "    kfold = KFold(n_splits=5, shuffle=True, random_state=1)\n",
    "    scores = []\n",
    "\n",
    "    i = 1\n",
    "    for train_idx, val_idx in kfold.split(train_validation):\n",
    "        df_train = train_validation.iloc[train_idx]\n",
    "        df_val = train_validation.iloc[val_idx]\n",
    "\n",
    "        y_train = df_train.converted.values\n",
    "        y_val = df_val.converted.values\n",
    "\n",
    "        sc, dv, model = train_model(df_train, C=C)\n",
    "        y_pred = predict(df_val, sc, dv, model)\n",
    "        # print(y_val.shape, y_pred.shape)\n",
    "        auc = roc_auc_score(y_val, y_pred)\n",
    "        print(f\"Fold {i}: {auc:.3f}\")\n",
    "        i += 1\n",
    "        scores.append(auc)\n",
    "\n",
    "    print('C=%s %.3f +- %.3f' % (C, np.mean(scores), np.std(scores)))"
   ]
  },
  {
   "cell_type": "code",
   "execution_count": null,
   "metadata": {},
   "outputs": [],
   "source": []
  }
 ],
 "metadata": {
  "kernelspec": {
   "display_name": "ml-zoomcamp",
   "language": "python",
   "name": "python3"
  },
  "language_info": {
   "codemirror_mode": {
    "name": "ipython",
    "version": 3
   },
   "file_extension": ".py",
   "mimetype": "text/x-python",
   "name": "python",
   "nbconvert_exporter": "python",
   "pygments_lexer": "ipython3",
   "version": "3.9.6"
  }
 },
 "nbformat": 4,
 "nbformat_minor": 5
}
